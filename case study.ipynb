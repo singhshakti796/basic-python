{
 "cells": [
  {
   "cell_type": "markdown",
   "metadata": {},
   "source": [
    "# CASE 1:-"
   ]
  },
  {
   "cell_type": "markdown",
   "metadata": {},
   "source": [
    "# check wheather the given year is a leap year or not?"
   ]
  },
  {
   "cell_type": "markdown",
   "metadata": {},
   "source": [
    "We add a Leap Day on February 29, almost every four years.\n",
    "\n",
    "The leap day is an extra, or intercalary day and we add it to the shortest month of the year, February.\n",
    "\n",
    "In the Gregorian calendar three criteria must be taken into account to identify leap years:"
   ]
  },
  {
   "cell_type": "markdown",
   "metadata": {},
   "source": [
    "1. The year can be evenly divided by 4, is a leap year, unless:\n",
    "2. The year can be evenly divided by 100, it is NOT a leap year, unless:\n",
    "3. The year is also evenly divisible by 400. Then it is a leap year. "
   ]
  },
  {
   "cell_type": "markdown",
   "metadata": {},
   "source": [
    "Examples : This means that in the Gregorian calendar, the years 2000 and 2400 are leap years, while 1800, 1900, 2100, 2200, 2300 and 2500 are NOT leap years.\n",
    "\n",
    "What you have to do?\n",
    "\n",
    "You are given the year, and you have to write a function to check if the year is leap or not. Note that you have to complete the function and remaining code is given as template.\n",
    "\n",
    "You can use a variable as input with a fix value of user input"
   ]
  },
  {
   "cell_type": "markdown",
   "metadata": {},
   "source": [
    "# solution"
   ]
  },
  {
   "cell_type": "code",
   "execution_count": 1,
   "metadata": {},
   "outputs": [
    {
     "name": "stdout",
     "output_type": "stream",
     "text": [
      "\n"
     ]
    },
    {
     "ename": "ValueError",
     "evalue": "invalid literal for int() with base 10: ''",
     "output_type": "error",
     "traceback": [
      "\u001b[1;31m---------------------------------------------------------------------------\u001b[0m",
      "\u001b[1;31mValueError\u001b[0m                                Traceback (most recent call last)",
      "\u001b[1;32m<ipython-input-1-45e181619e76>\u001b[0m in \u001b[0;36m<module>\u001b[1;34m\u001b[0m\n\u001b[0;32m      8\u001b[0m     \u001b[1;32mreturn\u001b[0m \u001b[1;32mFalse\u001b[0m\u001b[1;33m\u001b[0m\u001b[1;33m\u001b[0m\u001b[0m\n\u001b[0;32m      9\u001b[0m \u001b[1;33m\u001b[0m\u001b[0m\n\u001b[1;32m---> 10\u001b[1;33m \u001b[0mprint\u001b[0m\u001b[1;33m(\u001b[0m\u001b[0mis_leap\u001b[0m\u001b[1;33m(\u001b[0m\u001b[0mint\u001b[0m\u001b[1;33m(\u001b[0m\u001b[0minput\u001b[0m\u001b[1;33m(\u001b[0m\u001b[1;33m)\u001b[0m\u001b[1;33m)\u001b[0m\u001b[1;33m)\u001b[0m\u001b[1;33m)\u001b[0m\u001b[1;33m\u001b[0m\u001b[1;33m\u001b[0m\u001b[0m\n\u001b[0m",
      "\u001b[1;31mValueError\u001b[0m: invalid literal for int() with base 10: ''"
     ]
    }
   ],
   "source": [
    "def is_leap(n):\n",
    "    if n % 400 == 0:\n",
    "        return True\n",
    "    if n % 100 == 0:\n",
    "        return False\n",
    "    if n % 4 == 0:\n",
    "        return True\n",
    "    return False\n",
    "\n",
    "print(is_leap(int(input())))\n"
   ]
  },
  {
   "cell_type": "code",
   "execution_count": 2,
   "metadata": {},
   "outputs": [
    {
     "name": "stdout",
     "output_type": "stream",
     "text": [
      "2020  is a leap year\n"
     ]
    }
   ],
   "source": [
    "def leapyear(n):\n",
    "    if (n%400==0) or (n%100==0) or (n%4==0):\n",
    "        print(n,\" is a leap year\")\n",
    "    else:\n",
    "        print(n,\" is not a leap year\")\n",
    "leapyear(2020)"
   ]
  },
  {
   "cell_type": "markdown",
   "metadata": {},
   "source": [
    "# CASE 2:"
   ]
  },
  {
   "cell_type": "markdown",
   "metadata": {},
   "source": [
    "# Rock Paper Scissors , if else or while ?"
   ]
  },
  {
   "cell_type": "markdown",
   "metadata": {},
   "source": [
    "Make a two-player Rock-Paper-Scissors game. (Hint: Ask for player plays (using input), compare them, print out a message of congratulations to the winner, and ask if the players want to start a new game)\n",
    "\n",
    "Remember the rules:"
   ]
  },
  {
   "cell_type": "markdown",
   "metadata": {},
   "source": [
    "1. rock beats scissors.\n",
    "2. Scissors beats paper.\n",
    "3. Paper beats rock."
   ]
  },
  {
   "cell_type": "markdown",
   "metadata": {},
   "source": [
    "If you don't know what is this game , go watch it :)"
   ]
  },
  {
   "cell_type": "code",
   "execution_count": 3,
   "metadata": {},
   "outputs": [
    {
     "name": "stdout",
     "output_type": "stream",
     "text": [
      "what's your name player1 ?:\n",
      "what's your name player2 ?:\n",
      ",enter your choice rock paper scissors :\n",
      ",enter your choice rock paper scissors :\n",
      "It's a tie!\n"
     ]
    }
   ],
   "source": [
    "user1=input(\"what's your name player1 ?:\")\n",
    "user2=input(\"what's your name player2 ?:\")\n",
    "c1=input(\"%s,enter your choice rock paper scissors :\"%user1)\n",
    "c2=input(\"%s,enter your choice rock paper scissors :\"%user2)\n",
    "c1=c1.upper()\n",
    "c2=c2.upper()\n",
    "\n",
    "def compare(u1, u2):\n",
    "    if u1 == u2:\n",
    "        return(\"It's a tie!\")\n",
    "    elif u1 == 'ROCK':\n",
    "        if u2 == 'SCISSORS':\n",
    "            return(\"Rock wins!\")\n",
    "        elif u2=='PAPER':\n",
    "            return(\"Paper wins!\")\n",
    "        else:\n",
    "            return(\"Invalid input! You have not entered rock, paper or scissors, try again.\")\n",
    "    elif u1 == 'SCISSORS':\n",
    "        if u2 == 'PAPER':\n",
    "            return(\"Scissors win!\")\n",
    "        elif u2=='ROCK':\n",
    "            return(\"Rock wins!\")\n",
    "        else:\n",
    "            return(\"Invalid input! You have not entered rock, paper or scissors, try again.\")\n",
    "    elif u1 == 'PAPER':\n",
    "        if u2 == 'ROCK':\n",
    "            return(\"Paper wins!\")\n",
    "        elif u2=='SCISSORS':\n",
    "            return(\"Scissors win!\")\n",
    "        else:\n",
    "            return(\"Invalid input! You have not entered rock, paper or scissors, try again.\")\n",
    "\n",
    "print(compare(c1,c2))\n",
    "   "
   ]
  },
  {
   "cell_type": "markdown",
   "metadata": {},
   "source": [
    "# CASE 3:"
   ]
  },
  {
   "cell_type": "markdown",
   "metadata": {},
   "source": [
    "# Simple List , Functions and list ?"
   ]
  },
  {
   "cell_type": "markdown",
   "metadata": {},
   "source": [
    "Write a program that takes a list of numbers (for example, a = [5, 10, 15, 20, 25]) and makes a new list of only the first and last elements of the given list.\n",
    "\n",
    "For practice, write this code inside a function."
   ]
  },
  {
   "cell_type": "code",
   "execution_count": 4,
   "metadata": {},
   "outputs": [
    {
     "name": "stdout",
     "output_type": "stream",
     "text": [
      "[2, 5]\n"
     ]
    }
   ],
   "source": [
    "def list(a_list):\n",
    "    return [a_list[0],a_list[len(a_list)-1]]\n",
    "a=[2,3,5,6,7,2,1,4,5]\n",
    "print(list(a))"
   ]
  },
  {
   "cell_type": "code",
   "execution_count": 5,
   "metadata": {},
   "outputs": [
    {
     "name": "stdout",
     "output_type": "stream",
     "text": [
      "1 5\n"
     ]
    },
    {
     "data": {
      "text/plain": [
       "function"
      ]
     },
     "execution_count": 5,
     "metadata": {},
     "output_type": "execute_result"
    }
   ],
   "source": [
    "def numbers_list(num1,num2,*args):\n",
    "    print(num1,args[0][-1])\n",
    "\n",
    "numbers_list(1,3,(4,5,2,1,5))\n",
    "type(numbers_list)"
   ]
  },
  {
   "cell_type": "markdown",
   "metadata": {},
   "source": [
    "# CASE 4:"
   ]
  },
  {
   "cell_type": "markdown",
   "metadata": {},
   "source": [
    "## Password generator .. Can I do it? yes by Strings and Random module"
   ]
  },
  {
   "cell_type": "markdown",
   "metadata": {},
   "source": [
    "Write a password generator in Python. Be creative with how you generate passwords - strong passwords have a mix of lowercase letters, uppercase letters, numbers, and symbols. The passwords should be random, generating a new password every time the user asks for a new password. Include your run-time code in a main method.\n",
    "\n",
    "Extra:\n",
    "\n",
    "Ask the user how strong they want their password to be. For weak passwords, pick a word or two from a list."
   ]
  },
  {
   "cell_type": "code",
   "execution_count": 9,
   "metadata": {},
   "outputs": [
    {
     "name": "stdout",
     "output_type": "stream",
     "text": [
      "How many characters in your password?5\n",
      "{ouoV\n"
     ]
    }
   ],
   "source": [
    "import string\n",
    "import random\n",
    "\n",
    "def pw_gen(size = 8, chars=string.ascii_letters + string.digits + string.punctuation):\n",
    "    return ''.join(random.choice(chars) for a in range(size))\n",
    "\n",
    "print(pw_gen(int(input('How many characters in your password?'))))"
   ]
  },
  {
   "cell_type": "code",
   "execution_count": 10,
   "metadata": {},
   "outputs": [
    {
     "name": "stdout",
     "output_type": "stream",
     "text": [
      "Random String is  aaggmfkp\n",
      "Random String is  kcspnztu\n",
      "Random String is  fumzrfva\n"
     ]
    }
   ],
   "source": [
    "import random\n",
    "import string\n",
    "\n",
    "def randomString(stringLength=8):\n",
    "    letters = string.ascii_lowercase\n",
    "    return ''.join(random.choice(letters) for i in range(stringLength))\n",
    "\n",
    "print(\"Random String is \", randomString())\n",
    "print(\"Random String is \", randomString(8))\n",
    "print(\"Random String is \", randomString(8))"
   ]
  },
  {
   "cell_type": "markdown",
   "metadata": {},
   "source": [
    "# CASE5:"
   ]
  },
  {
   "cell_type": "markdown",
   "metadata": {},
   "source": [
    "## Read from a file"
   ]
  },
  {
   "cell_type": "markdown",
   "metadata": {},
   "source": [
    "Create a .txt file that has a list of a bunch of names, count how many of each name there are in the file, and print out the results to the screen."
   ]
  },
  {
   "cell_type": "code",
   "execution_count": 11,
   "metadata": {},
   "outputs": [
    {
     "name": "stdout",
     "output_type": "stream",
     "text": [
      "{'shakti': 1, 'is': 1, 'a': 1, 'product': 1, 'of': 1, 'IMS': 1, 'Proschool': 1}\n"
     ]
    }
   ],
   "source": [
    "counter_dict = {}\n",
    "with open(r'C:\\Users\\JAI MATA DI\\Desktop\\IMS\\Buisness Analytics\\2.python\\ims online\\work.txt') as f:\n",
    "    line = f.readline()\n",
    "    while line:\n",
    "        line = line.strip()\n",
    "        if line in counter_dict:\n",
    "            counter_dict[line] += 1\n",
    "        else:\n",
    "            counter_dict[line] = 1\n",
    "        line = f.readline()\n",
    "\n",
    "print(counter_dict)"
   ]
  },
  {
   "cell_type": "markdown",
   "metadata": {},
   "source": [
    "# CASE 6:"
   ]
  },
  {
   "cell_type": "markdown",
   "metadata": {},
   "source": [
    "# Even Numbers in all digits"
   ]
  },
  {
   "cell_type": "markdown",
   "metadata": {},
   "source": [
    "Write a program, which will find all such numbers between 1000 and 3000 (both included) such that each digit of the number is an even number. The numbers obtained should be printed in a comma-separated sequence on a single line."
   ]
  },
  {
   "cell_type": "code",
   "execution_count": 12,
   "metadata": {},
   "outputs": [
    {
     "name": "stdout",
     "output_type": "stream",
     "text": [
      "['2000', '2002', '2004', '2006', '2008', '2020', '2022', '2024', '2026', '2028', '2040', '2042', '2044', '2046', '2048', '2060', '2062', '2064', '2066', '2068', '2080', '2082', '2084', '2086', '2088', '2200', '2202', '2204', '2206', '2208', '2220', '2222', '2224', '2226', '2228', '2240', '2242', '2244', '2246', '2248', '2260', '2262', '2264', '2266', '2268', '2280', '2282', '2284', '2286', '2288', '2400', '2402', '2404', '2406', '2408', '2420', '2422', '2424', '2426', '2428', '2440', '2442', '2444', '2446', '2448', '2460', '2462', '2464', '2466', '2468', '2480', '2482', '2484', '2486', '2488', '2600', '2602', '2604', '2606', '2608', '2620', '2622', '2624', '2626', '2628', '2640', '2642', '2644', '2646', '2648', '2660', '2662', '2664', '2666', '2668', '2680', '2682', '2684', '2686', '2688', '2800', '2802', '2804', '2806', '2808', '2820', '2822', '2824', '2826', '2828', '2840', '2842', '2844', '2846', '2848', '2860', '2862', '2864', '2866', '2868', '2880', '2882', '2884', '2886', '2888']\n"
     ]
    }
   ],
   "source": [
    "list=[]\n",
    "for i in range(1000,3001):\n",
    "    # print(i) #problem is it prints the output in vertical format\n",
    "    if (i%2==0):\n",
    "        string=str(i)\n",
    "        if (int(string[0])%2==0) and (int(string[1])%2==0) and (int(string[2])%2==0) and (int(string[3])%2==0):\n",
    "            list.append(string)\n",
    "print(list)"
   ]
  },
  {
   "cell_type": "markdown",
   "metadata": {},
   "source": [
    "# CASE 7:"
   ]
  },
  {
   "cell_type": "markdown",
   "metadata": {},
   "source": [
    "## English to GOBO Langauge Translator"
   ]
  },
  {
   "cell_type": "markdown",
   "metadata": {},
   "source": [
    "GOBO lanagaue has two very simple rules.\n",
    "\n",
    "If a word starts with a consonant move the first letter(s) of the word, till you reach a vowel, to the end of the word and add \"ay\" to the end.\n",
    "\n",
    "1. have ➞ avehay\n",
    "2. cram ➞ amcray\n",
    "3. take ➞ aketay\n",
    "4. cat ➞ atcay\n",
    "5. shrimp ➞ impshray\n",
    "6. trebuchet ➞ ebuchettray\n",
    "\n",
    "If a word starts with a vowel add \"yay\" to the end of the word.\n",
    "\n",
    "1. ate ➞ ateyay\n",
    "2. apple ➞ appleyay\n",
    "3. oaken ➞ oakenyay\n",
    "4. eagle ➞ eagleyay\n",
    "Write a script which takes an English word (or a sentence!) and returns the GOBO translation of it.\n",
    "\n",
    "Here you need to work on 're' package for this *"
   ]
  },
  {
   "cell_type": "code",
   "execution_count": 15,
   "metadata": {},
   "outputs": [
    {
     "name": "stdout",
     "output_type": "stream",
     "text": [
      "The converted Text is :  Isthay isyay aktishay\n"
     ]
    }
   ],
   "source": [
    "import re\n",
    "def gobo_convert(a):\n",
    "    sol = []\n",
    "    for x in a.split():\n",
    "        if x[0] not in \"aeiouAEIOU\":\n",
    "            for x in re.findall('(^[^aeiouAEIOU]+)(\\w*)(.*)',x):\n",
    "                sol.append( x[1] + x[0].lower() + 'ay' + x[2])\n",
    "        else:\n",
    "            sol.append(x.lower() + 'yay')\n",
    "            \n",
    "    if len(sol) > 1:\n",
    "        sol[0] = sol[0].title()\n",
    "\n",
    "    return \" \".join(sol)\n",
    "\n",
    "print(\"The converted Text is : \", gobo_convert(\"this is shakti\"))"
   ]
  },
  {
   "cell_type": "code",
   "execution_count": null,
   "metadata": {},
   "outputs": [],
   "source": []
  },
  {
   "cell_type": "code",
   "execution_count": null,
   "metadata": {},
   "outputs": [],
   "source": []
  }
 ],
 "metadata": {
  "kernelspec": {
   "display_name": "Python 3",
   "language": "python",
   "name": "python3"
  },
  "language_info": {
   "codemirror_mode": {
    "name": "ipython",
    "version": 3
   },
   "file_extension": ".py",
   "mimetype": "text/x-python",
   "name": "python",
   "nbconvert_exporter": "python",
   "pygments_lexer": "ipython3",
   "version": "3.7.6"
  }
 },
 "nbformat": 4,
 "nbformat_minor": 4
}
