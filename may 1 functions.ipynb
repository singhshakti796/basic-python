{
 "cells": [
  {
   "cell_type": "markdown",
   "metadata": {},
   "source": [
    "# functions in python"
   ]
  },
  {
   "cell_type": "markdown",
   "metadata": {},
   "source": [
    "# functions without parameters"
   ]
  },
  {
   "cell_type": "code",
   "execution_count": 2,
   "metadata": {},
   "outputs": [],
   "source": [
    "#to define a function we use def keyword."
   ]
  },
  {
   "cell_type": "code",
   "execution_count": 3,
   "metadata": {},
   "outputs": [
    {
     "name": "stdout",
     "output_type": "stream",
     "text": [
      "Good Morning!\n",
      "it's Sunday!!!\n"
     ]
    }
   ],
   "source": [
    "def gm(): #defining the function.\n",
    "    print(\"Good Morning!\") #function body.\n",
    "    print(\"it's Sunday!!!\") #function body.\n",
    "gm() #this is how we call the function by its name."
   ]
  },
  {
   "cell_type": "code",
   "execution_count": 4,
   "metadata": {},
   "outputs": [],
   "source": [
    "#fucntion body is the area where we define the functionality of the function."
   ]
  },
  {
   "cell_type": "code",
   "execution_count": 5,
   "metadata": {},
   "outputs": [],
   "source": [
    "#this function isn't returning any values."
   ]
  },
  {
   "cell_type": "code",
   "execution_count": 6,
   "metadata": {},
   "outputs": [],
   "source": [
    "#return statement is used to return an object"
   ]
  },
  {
   "cell_type": "code",
   "execution_count": 8,
   "metadata": {},
   "outputs": [],
   "source": [
    "def gm():\n",
    "    print(\"Good Morning\")\n",
    "    print(\"it's sunday\")\n",
    "    return(\"sunshine\")"
   ]
  },
  {
   "cell_type": "code",
   "execution_count": 9,
   "metadata": {},
   "outputs": [
    {
     "name": "stdout",
     "output_type": "stream",
     "text": [
      "Good Morning\n",
      "it's sunday\n"
     ]
    }
   ],
   "source": [
    "a=gm()"
   ]
  },
  {
   "cell_type": "code",
   "execution_count": 10,
   "metadata": {},
   "outputs": [
    {
     "name": "stdout",
     "output_type": "stream",
     "text": [
      "sunshine\n"
     ]
    }
   ],
   "source": [
    "print(a)"
   ]
  },
  {
   "cell_type": "code",
   "execution_count": 11,
   "metadata": {},
   "outputs": [
    {
     "data": {
      "text/plain": [
       "str"
      ]
     },
     "execution_count": 11,
     "metadata": {},
     "output_type": "execute_result"
    }
   ],
   "source": [
    "type(a)"
   ]
  },
  {
   "cell_type": "markdown",
   "metadata": {},
   "source": [
    "# functions with inputs/parameters"
   ]
  },
  {
   "cell_type": "code",
   "execution_count": 13,
   "metadata": {},
   "outputs": [],
   "source": [
    "def welcome(first_name,last_name):\n",
    "    print(\"hello\",first_name,last_name)\n",
    "    print(\"welcome abroad\")"
   ]
  },
  {
   "cell_type": "code",
   "execution_count": 14,
   "metadata": {},
   "outputs": [
    {
     "name": "stdout",
     "output_type": "stream",
     "text": [
      "hello shakti singh\n",
      "welcome abroad\n"
     ]
    }
   ],
   "source": [
    "welcome(\"shakti\",\"singh\")"
   ]
  },
  {
   "cell_type": "code",
   "execution_count": 15,
   "metadata": {},
   "outputs": [],
   "source": [
    "#values that we efine are parameters and value that we pass are known as arguments"
   ]
  },
  {
   "cell_type": "code",
   "execution_count": 16,
   "metadata": {},
   "outputs": [
    {
     "name": "stdout",
     "output_type": "stream",
     "text": [
      "hello shakti singh\n",
      "welcome abroad\n"
     ]
    }
   ],
   "source": [
    "welcome(first_name=\"shakti\",last_name=\"singh\")"
   ]
  },
  {
   "cell_type": "code",
   "execution_count": 20,
   "metadata": {},
   "outputs": [
    {
     "name": "stdout",
     "output_type": "stream",
     "text": [
      "first number is 45\n",
      "second number is  68\n"
     ]
    },
    {
     "data": {
      "text/plain": [
       "('sum is', 113)"
      ]
     },
     "execution_count": 20,
     "metadata": {},
     "output_type": "execute_result"
    }
   ],
   "source": [
    "##define a function that return the sum of 2 values\n",
    "def sum(num1,num2):\n",
    "    print(\"first number is\",num1)\n",
    "    print(\"second number is \",num2)\n",
    "    return(\"sum is\", num1+num2)\n",
    "sum(45,68)"
   ]
  },
  {
   "cell_type": "code",
   "execution_count": 22,
   "metadata": {},
   "outputs": [
    {
     "data": {
      "text/plain": [
       "1.0"
      ]
     },
     "execution_count": 22,
     "metadata": {},
     "output_type": "execute_result"
    }
   ],
   "source": [
    "##define a function which calculate the Z-score\n",
    "def zscore(x,mean,std_dev):\n",
    "    return((x-mean)/std_dev)\n",
    "zscore(25,20,5)    "
   ]
  },
  {
   "cell_type": "code",
   "execution_count": 23,
   "metadata": {},
   "outputs": [],
   "source": [
    "def squarevalue(a):\n",
    "    return(a*a)"
   ]
  },
  {
   "cell_type": "code",
   "execution_count": 24,
   "metadata": {},
   "outputs": [
    {
     "name": "stdout",
     "output_type": "stream",
     "text": [
      "16\n"
     ]
    }
   ],
   "source": [
    "result=squarevalue(4)\n",
    "print(result)"
   ]
  },
  {
   "cell_type": "code",
   "execution_count": 30,
   "metadata": {},
   "outputs": [
    {
     "name": "stdout",
     "output_type": "stream",
     "text": [
      "54 45\n"
     ]
    }
   ],
   "source": [
    "#Swappoing values\n",
    "def swap(p,q):\n",
    "    print(q,p)\n",
    "swap(45,54)"
   ]
  },
  {
   "cell_type": "markdown",
   "metadata": {},
   "source": [
    "# collecting parameter"
   ]
  },
  {
   "cell_type": "code",
   "execution_count": 32,
   "metadata": {},
   "outputs": [
    {
     "name": "stdout",
     "output_type": "stream",
     "text": [
      "first number is  4\n",
      "second number is 8\n",
      "other numbers are (96,)\n",
      "<class 'tuple'>\n"
     ]
    }
   ],
   "source": [
    "#defined a function which takes atleast 2 values\n",
    "def new_function(num1,num2,*args):\n",
    "    print(\"first number is \",num1)\n",
    "    print(\"second number is\",num2)\n",
    "    print(\"other numbers are\",args)\n",
    "    print(type(args))\n",
    "new_function(4,8,96)"
   ]
  },
  {
   "cell_type": "code",
   "execution_count": 42,
   "metadata": {},
   "outputs": [
    {
     "data": {
      "text/plain": [
       "235"
      ]
     },
     "execution_count": 42,
     "metadata": {},
     "output_type": "execute_result"
    }
   ],
   "source": [
    "#make a function that takes atleast 2numbers as an input and reutrns their sum.\n",
    "sum=0\n",
    "def add(num1,num2,*args):\n",
    "    sum=num1+num2\n",
    "    for i in args:\n",
    "        sum=sum+i\n",
    "    return(sum)\n",
    "add(54,86,95)"
   ]
  },
  {
   "cell_type": "markdown",
   "metadata": {},
   "source": [
    "## Recursion"
   ]
  },
  {
   "cell_type": "code",
   "execution_count": 47,
   "metadata": {},
   "outputs": [
    {
     "data": {
      "text/plain": [
       "24"
      ]
     },
     "execution_count": 47,
     "metadata": {},
     "output_type": "execute_result"
    }
   ],
   "source": [
    "#factorial of numbers\n",
    "def fact(n):\n",
    "    if (n==0):\n",
    "        return(1)\n",
    "    else:\n",
    "        factorial=n*fact(n-1)\n",
    "        return(factorial)\n",
    "fact(4)"
   ]
  },
  {
   "cell_type": "code",
   "execution_count": 2,
   "metadata": {},
   "outputs": [
    {
     "name": "stdout",
     "output_type": "stream",
     "text": [
      "sum is  22\n",
      "product is  6\n"
     ]
    }
   ],
   "source": [
    "#define a function where we will pass 5 values\n",
    "#sum of those values which are less than 5\n",
    "#product of those values which are greater than 5\n",
    "#print both the results\n",
    "def game(a,b,c,d,e):\n",
    "    l=[a,b,c,d,e]\n",
    "    sum=0\n",
    "    product=1\n",
    "    for i in l:\n",
    "        if(i>5):\n",
    "            sum=sum+i\n",
    "        else:\n",
    "            product=product*i\n",
    "    print(\"sum is \",sum)\n",
    "    print(\"product is \",product)\n",
    "game(2,6,7,3,9)"
   ]
  },
  {
   "cell_type": "markdown",
   "metadata": {},
   "source": [
    "# local and global variable"
   ]
  },
  {
   "cell_type": "code",
   "execution_count": 2,
   "metadata": {},
   "outputs": [
    {
     "name": "stdout",
     "output_type": "stream",
     "text": [
      "inside the function the value of q is 14\n",
      "inside the function the value of p is 5\n"
     ]
    }
   ],
   "source": [
    "q=1 #global varaible\n",
    "def new_function(a,b):\n",
    "    q=a+b\n",
    "    p=5 #local varaible\n",
    "    print(\"inside the function the value of q is\",q)\n",
    "    print(\"inside the function the value of p is\",p)\n",
    "new_function(4,10)"
   ]
  },
  {
   "cell_type": "code",
   "execution_count": 3,
   "metadata": {},
   "outputs": [
    {
     "ename": "NameError",
     "evalue": "name 'p' is not defined",
     "output_type": "error",
     "traceback": [
      "\u001b[1;31m---------------------------------------------------------------------------\u001b[0m",
      "\u001b[1;31mNameError\u001b[0m                                 Traceback (most recent call last)",
      "\u001b[1;32m<ipython-input-3-c7efc66e9b10>\u001b[0m in \u001b[0;36m<module>\u001b[1;34m\u001b[0m\n\u001b[1;32m----> 1\u001b[1;33m \u001b[0mprint\u001b[0m\u001b[1;33m(\u001b[0m\u001b[0mp\u001b[0m\u001b[1;33m)\u001b[0m\u001b[1;33m\u001b[0m\u001b[1;33m\u001b[0m\u001b[0m\n\u001b[0m",
      "\u001b[1;31mNameError\u001b[0m: name 'p' is not defined"
     ]
    }
   ],
   "source": [
    "print(p) #local varaible so we cant access the value of p"
   ]
  },
  {
   "cell_type": "code",
   "execution_count": 4,
   "metadata": {},
   "outputs": [
    {
     "name": "stdout",
     "output_type": "stream",
     "text": [
      "1\n"
     ]
    }
   ],
   "source": [
    "print(q) #it shows the global value of q"
   ]
  },
  {
   "cell_type": "code",
   "execution_count": null,
   "metadata": {},
   "outputs": [],
   "source": []
  }
 ],
 "metadata": {
  "kernelspec": {
   "display_name": "Python 3",
   "language": "python",
   "name": "python3"
  },
  "language_info": {
   "codemirror_mode": {
    "name": "ipython",
    "version": 3
   },
   "file_extension": ".py",
   "mimetype": "text/x-python",
   "name": "python",
   "nbconvert_exporter": "python",
   "pygments_lexer": "ipython3",
   "version": "3.7.6"
  }
 },
 "nbformat": 4,
 "nbformat_minor": 4
}
