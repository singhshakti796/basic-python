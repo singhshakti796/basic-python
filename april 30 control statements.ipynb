{
 "cells": [
  {
   "cell_type": "markdown",
   "metadata": {},
   "source": [
    "# Break"
   ]
  },
  {
   "cell_type": "code",
   "execution_count": 1,
   "metadata": {},
   "outputs": [],
   "source": [
    "list_1=[10,20,30,40,50,60]\n",
    "#print only the first value of the list which is greater than 30\n"
   ]
  },
  {
   "cell_type": "code",
   "execution_count": 2,
   "metadata": {},
   "outputs": [
    {
     "name": "stdout",
     "output_type": "stream",
     "text": [
      "40\n"
     ]
    }
   ],
   "source": [
    "for i in list_1:\n",
    "    if i>30:\n",
    "        print(i)\n",
    "        break"
   ]
  },
  {
   "cell_type": "code",
   "execution_count": 3,
   "metadata": {},
   "outputs": [],
   "source": [
    "list_2=[10,20,30,80,50,40,70]\n",
    "##to find thge position as well as value of the first number which is divisible by 40"
   ]
  },
  {
   "cell_type": "code",
   "execution_count": 7,
   "metadata": {},
   "outputs": [
    {
     "name": "stdout",
     "output_type": "stream",
     "text": [
      "position 3\n",
      "value 80\n"
     ]
    }
   ],
   "source": [
    "position=0 #index\n",
    "for i in list_2:\n",
    "    if (i%40==0):\n",
    "        print(\"position\",position)\n",
    "        print(\"value\",i)\n",
    "        break\n",
    "    position+=1\n",
    "         "
   ]
  },
  {
   "cell_type": "code",
   "execution_count": 8,
   "metadata": {},
   "outputs": [],
   "source": [
    "list_3=[10,20,35,40,55,87,60,89,80]\n",
    "#print the first 2 values divisble by 20"
   ]
  },
  {
   "cell_type": "code",
   "execution_count": 10,
   "metadata": {},
   "outputs": [
    {
     "name": "stdout",
     "output_type": "stream",
     "text": [
      "value 20\n",
      "value 40\n"
     ]
    }
   ],
   "source": [
    "count=0\n",
    "for i in list_3:\n",
    "    if (i%20==0):\n",
    "        print(\"value\",i)\n",
    "        count+=1\n",
    "    if (count==2):\n",
    "        break"
   ]
  },
  {
   "cell_type": "markdown",
   "metadata": {},
   "source": [
    "# continue statements"
   ]
  },
  {
   "cell_type": "code",
   "execution_count": 12,
   "metadata": {},
   "outputs": [
    {
     "data": {
      "text/plain": [
       "' 1\\n    2\\n    3\\n    5\\n    6\\n    7\\n    9\\n    10 '"
      ]
     },
     "execution_count": 12,
     "metadata": {},
     "output_type": "execute_result"
    }
   ],
   "source": [
    "#we want to print all the numbers from 1 to 10\n",
    "#except for those numbers which are divisible by 4\n",
    "\"\"\" 1\n",
    "    2\n",
    "    3\n",
    "    5\n",
    "    6\n",
    "    7\n",
    "    9\n",
    "    10 \"\"\""
   ]
  },
  {
   "cell_type": "code",
   "execution_count": 16,
   "metadata": {},
   "outputs": [
    {
     "name": "stdout",
     "output_type": "stream",
     "text": [
      "1\n",
      "2\n",
      "3\n",
      "5\n",
      "6\n",
      "7\n",
      "9\n",
      "10\n"
     ]
    }
   ],
   "source": [
    "for i in range(1,11):\n",
    "    if (i%4==0):\n",
    "        continue \n",
    "    else:\n",
    "        print(i)"
   ]
  },
  {
   "cell_type": "code",
   "execution_count": 17,
   "metadata": {},
   "outputs": [],
   "source": [
    "#print alphabets of your name\n",
    "#stop printing if \"e\",\"i or \"u\" comes\n",
    "#dont print alphabets \"a\" and \"o\" if they comes"
   ]
  },
  {
   "cell_type": "code",
   "execution_count": 19,
   "metadata": {},
   "outputs": [
    {
     "name": "stdout",
     "output_type": "stream",
     "text": [
      "s\n",
      "h\n",
      "k\n",
      "t\n"
     ]
    }
   ],
   "source": [
    "name=\"shakti singh\"\n",
    "for i in name:\n",
    "    if (i==\"a\" or i==\"o\"):\n",
    "        continue\n",
    "    elif(i==\"e\" or i==\"i\" or i==\"u\"):\n",
    "        break\n",
    "    else:\n",
    "        print(i)"
   ]
  },
  {
   "cell_type": "code",
   "execution_count": 22,
   "metadata": {},
   "outputs": [
    {
     "name": "stdout",
     "output_type": "stream",
     "text": [
      "3756\n",
      "7512\n",
      "11268\n"
     ]
    }
   ],
   "source": [
    "num=3756\n",
    "i=0\n",
    "count=0\n",
    "while True:\n",
    "#print only the first 3 numbers which are divisble by num.\n",
    "    i+=1\n",
    "    if(i%num==0):\n",
    "        print(i)\n",
    "        count+=1\n",
    "    if (count==3):\n",
    "        break\n",
    "    "
   ]
  },
  {
   "cell_type": "code",
   "execution_count": null,
   "metadata": {},
   "outputs": [],
   "source": []
  }
 ],
 "metadata": {
  "kernelspec": {
   "display_name": "Python 3",
   "language": "python",
   "name": "python3"
  },
  "language_info": {
   "codemirror_mode": {
    "name": "ipython",
    "version": 3
   },
   "file_extension": ".py",
   "mimetype": "text/x-python",
   "name": "python",
   "nbconvert_exporter": "python",
   "pygments_lexer": "ipython3",
   "version": "3.7.6"
  }
 },
 "nbformat": 4,
 "nbformat_minor": 4
}
